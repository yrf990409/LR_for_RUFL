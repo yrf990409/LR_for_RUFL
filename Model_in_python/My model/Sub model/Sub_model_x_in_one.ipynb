{
 "cells": [
  {
   "cell_type": "markdown",
   "metadata": {},
   "source": [
    "# $x$子问题线性模型\n"
   ]
  },
  {
   "cell_type": "code",
   "execution_count": null,
   "metadata": {},
   "outputs": [],
   "source": [
    "import gurobipy as gp\n",
    "import numpy as np\n",
    "import math\n",
    "import copy"
   ]
  },
  {
   "cell_type": "code",
   "execution_count": null,
   "metadata": {},
   "outputs": [],
   "source": [
    "def previous(i, j, J):\n",
    "    before = copy.deepcopy(J)\n",
    "    before = [i] + before\n",
    "    if j != 0:\n",
    "        before.remove(j)\n",
    "    return before\n",
    "\n",
    "\n",
    "def later(i, j, bar_J):\n",
    "    after = copy.deepcopy(bar_J)\n",
    "    if i != j:\n",
    "        after.remove(j)\n",
    "    return after"
   ]
  },
  {
   "cell_type": "markdown",
   "metadata": {},
   "source": [
    "## 导入数据"
   ]
  },
  {
   "cell_type": "code",
   "execution_count": null,
   "metadata": {},
   "outputs": [],
   "source": [
    "# 导入数据\n",
    "np.set_printoptions(suppress=True)    # 取消numpy打印的科学计数法\n",
    "\n",
    "\n",
    "# cost 矩阵的第一索引位置是0 默认为虚拟设施\n",
    "root = '../data/SnyderData/49nodes/'\n",
    "cost = np.loadtxt(root+'cost.csv',  # 相对路径下的csv文件\n",
    "                  dtype=None,         # 数据类型默认\n",
    "                  encoding='UTF-8',   # 注意此文件为UTF-8格式且取消BOM\n",
    "                  delimiter=',')      # 分隔符\n",
    "\n",
    "dmd = np.loadtxt(root+'dmd.csv',  # 相对路径下的csv文件\n",
    "                  dtype=None,         # 数据类型默认\n",
    "                  encoding='UTF-8',   # 注意此文件为UTF-8格式且取消BOM\n",
    "                  delimiter=',')      # 分隔符\n",
    "\n",
    "fc = np.loadtxt(root+'fc.csv',  # 相对路径下的csv文件\n",
    "                  dtype=None,         # 数据类型默认\n",
    "                  encoding='UTF-8',   # 注意此文件为UTF-8格式且取消BOM\n",
    "                  delimiter=',')      # 分隔符\n",
    "# temp_mu = np.loadtxt('mu.csv',  # 相对路径下的csv文件\n",
    "#                   dtype=None,         # 数据类型默认\n",
    "#                   encoding='UTF-8',   # 注意此文件为UTF-8格式且取消BOM\n",
    "#                   delimiter=',')      # 分隔符\n",
    "\n",
    "# print(temp_mu.shape)\n",
    "\n",
    "temp_mu = np.zeros([49,50])"
   ]
  },
  {
   "cell_type": "markdown",
   "metadata": {},
   "source": [
    "## 参数设置"
   ]
  },
  {
   "cell_type": "code",
   "execution_count": null,
   "metadata": {},
   "outputs": [],
   "source": [
    "# rou = 0.5 # 损坏概率参数\n",
    "max_visit_num = 5 # 客户的最大尝试次数\n",
    "\n"
   ]
  },
  {
   "cell_type": "code",
   "execution_count": null,
   "metadata": {},
   "outputs": [],
   "source": [
    "# q = 0.05 * np.exp(-fc/200000) # 损坏概率\n",
    "# q[0] = 1\n",
    "\n",
    "q = [1,\n",
    "0.280229272487245,\n",
    "0.300548187369488,\n",
    "0.347793216749548,\n",
    "0.348141183920886,\n",
    "0.412653434245841,\n",
    "0.371893714010090,\n",
    "0.359461866715963,\n",
    "0.392528088775915,\n",
    "0.350061235734810,\n",
    "0.308464911686774,\n",
    "0.350236310117626,\n",
    "0.358385097077850,\n",
    "0.223097322143136,\n",
    "0.368930433225296,\n",
    "0.367641433773900]\n",
    "\n",
    "cus_num = len(dmd) # 客户数\n",
    "node_num = cost.shape[0] # 节点数（虚拟 设施 客户）\n",
    "fac_num = node_num - cus_num - 1 # 设施数\n",
    "\n",
    "# 集合设置\n",
    "J = [j for j in range(1, fac_num+1)] # 设施集合\n",
    "I = [i for i in range(fac_num+1, node_num)] # 客户集合\n",
    "bar_J = [j for j in range(0, fac_num+1)] # 设施拓展集合\n",
    "R = [r for r in range(1,max_visit_num)] # 等级\n",
    "\n",
    "# 常数集合\n",
    "lmd = {i : dmd[i-fac_num-1] for i in I} # lambda需求\n",
    "c = {(i,j) : cost[i,j] for i in bar_J+I for j in bar_J} # 价格\n",
    "f = {j : fc[j] for j in J} # 建设成本\n",
    "\n",
    "\n",
    "print(I)\n",
    "print(bar_J)\n",
    "print(temp_mu.shape)\n",
    "\n",
    "mu = {(i,j) : temp_mu[i-fac_num-1,j] for i in I for j in bar_J} # 价格"
   ]
  },
  {
   "cell_type": "markdown",
   "metadata": {},
   "source": [
    "## 建模"
   ]
  },
  {
   "cell_type": "code",
   "execution_count": null,
   "metadata": {},
   "outputs": [],
   "source": [
    "m = gp.Model()"
   ]
  },
  {
   "cell_type": "markdown",
   "metadata": {},
   "source": [
    "### 决策变量"
   ]
  },
  {
   "cell_type": "code",
   "execution_count": null,
   "metadata": {},
   "outputs": [],
   "source": [
    "x = m.addVars(((i, j, j_p) for i in I for j in J+[i] for j_p in later(i,j,bar_J)), vtype = gp.GRB.BINARY,name = 'x') # 弧(j,j_p)属于客户i\n",
    "p = m.addVars(((i, j, j_p) for i in I for j in J+[i] for j_p in later(i,j,bar_J)), lb = 0, ub = 1, vtype = gp.GRB.CONTINUOUS,name = 'p') # 属于客户i的弧(j,j_p)的概率\n",
    "w = m.addVars(((i, j, j_p) for i in I for j in J+[i] for j_p in later(i,j,bar_J)), lb = 0, ub = 1, vtype = gp.GRB.CONTINUOUS,name = 'w') # 期望价格"
   ]
  },
  {
   "cell_type": "markdown",
   "metadata": {},
   "source": [
    "## 目标函数\n",
    "$$\n",
    "\\max_{\\mu}\\min_{x,w} \n",
    "\\sum_{i\\in I} \\sum_{j\\in J} \\sum_{k\\in J_{ij}^+} (\\lambda_i c_{kj} w_{ikj} + \\mu_{ij} x_{ikj}) \n",
    "+ \\sum_{i\\in I} \\sum_{k\\in J_{ij_0}^+}\\lambda_i c_{kj_0} w_{ikj_0}\n",
    "$$"
   ]
  },
  {
   "cell_type": "code",
   "execution_count": null,
   "metadata": {},
   "outputs": [],
   "source": [
    "item_1 = gp.quicksum((lmd[i] * c[k,j] * w[i,k,j] + mu[i,j] * x[i,k,j]) for i in I for j in J for k in previous(i,j,J))\n",
    "item_2 = gp.quicksum(lmd[i] * c[k,0] * w[i,k,0] for i in I for k in previous(i,0,J))\n",
    "m.setObjective(item_1 + item_2)\n",
    "print(\"done\")"
   ]
  },
  {
   "attachments": {},
   "cell_type": "markdown",
   "metadata": {},
   "source": [
    "## 约束\n",
    "$$\n",
    "% 流开始与结束\n",
    "\\sum_{j\\in J_{ii}^-}x_{iij} = \\sum_{j\\in J_{i{j_{0}}}^+} x_{ijj_0} = 1, \\forall i \\in I \\\\\n",
    "% 流平衡\n",
    "\\sum_{k\\in J_{ij}^-} x_{ijk} = \\sum_{k\\in J_{ij}^+} x_{ikj}, \\forall i \\in I, j \\in J \\\\\n",
    "% 概率初始化\n",
    "p_{iij} = x_{iij}, \\forall i\\in I, j\\in J_{ii}^- \\\\\n",
    "% 概率递推\n",
    "q_j\\sum_{k\\in J_{ij}^+} w_{ikj} = p_{ijj'}, \\forall i \\in I, j \\in J, j'\\in J_{ij}^- \\\\\n",
    "% 尝试次数\n",
    "\\sum_{j\\in J\\cup\\{i\\}} \\sum_{k\\in J_{ij}^-} x_{ijk} \\le R, \\forall i\\in I \n",
    "% 上界1\n",
    "w_{ijk} \\le p_{ijk}, \\forall i \\in I, j \\in J+\\{i\\}, j'\\in J_{ij}^- \\\\\n",
    "% 上界2\n",
    "w_{ijk} \\le x_{ijk}, \\forall i \\in I, j \\in J+\\{i\\}, j'\\in J_{ij}^- \\\\\n",
    "% 下界\n",
    "w_{ijk} \\ge p_{ijk} + x_{ijk} - 1, \\forall i \\in I, j \\in J+\\{i\\}, j'\\in J_{ij}^-\\\\\n",
    "\n",
    "$$"
   ]
  },
  {
   "cell_type": "code",
   "execution_count": null,
   "metadata": {},
   "outputs": [],
   "source": [
    "m.addConstrs((gp.quicksum(x[i,i,j] for j in later(i,i,bar_J)) == 1 for i in I), name = 'flowin')\n",
    "m.addConstrs((gp.quicksum(x[i,j,0] for j in previous(i,0,J)) == 1 for i in I), name = 'flowout')\n",
    "m.addConstrs((gp.quicksum(x[i,j,k] for k in later(i,j,bar_J)) == gp.quicksum(x[i,k,j] for k in previous(i,j,J)) for i in I for j in J), name = 'balance')\n",
    "m.addConstrs((p[i,i,j] == x[i,i,j] for i in I for j in later(i,i,bar_J)), name = 'probinit')\n",
    "m.addConstrs(((q[j] * gp.quicksum(w[i,k,j] for k in previous(i,j,J)) == p[i,j,j_p]) for i in I for j in J for j_p in later(i,j,bar_J)), name = 'probbalance')\n",
    "m.addConstrs(((gp.quicksum(x[i,j,k] for j in J+[i] for k in later(i,j,bar_J))) <= max_visit_num for i in I), name = 'maxtry')\n",
    "m.addConstrs((w[i,j,k] <= p[i,j,k] for i in I for j in J+[i] for k in later(i,j,bar_J)), name='u1b')\n",
    "m.addConstrs((w[i,j,k] <= x[i,j,k] for i in I for j in J+[i] for k in later(i,j,bar_J)), name='u2b')\n",
    "m.addConstrs((w[i,j,k] >= p[i,j,k] + x[i,j,k] -1 for i in I for j in J+[i] for k in later(i,j,bar_J)), name='lb')\n",
    "\n",
    "print(\"done\")"
   ]
  },
  {
   "cell_type": "markdown",
   "metadata": {},
   "source": [
    "## 求解"
   ]
  },
  {
   "cell_type": "code",
   "execution_count": null,
   "metadata": {},
   "outputs": [],
   "source": [
    "m.Params.MIPGap = 0.00001\n",
    "m.Params.timeLimit = 1000\n",
    "# m.Params.LogFile =  \"SolvingLog.log\"\n",
    "\n",
    "m.optimize()\n",
    "\n",
    "# m.computeIIS()\n",
    "# m.write('Model.ilp')\n",
    "\n",
    "# m.write('Model.lp')\n",
    "# m.write('Solution.sol')\n",
    "\n",
    "print('求解完成')"
   ]
  },
  {
   "cell_type": "code",
   "execution_count": null,
   "metadata": {},
   "outputs": [],
   "source": [
    "\n",
    "for i in I:\n",
    "    item_1_x = gp.quicksum((lmd[i] * c[k,j] * w[i,k,j] + mu[i,j] * x[i,k,j]) for j in J for k in previous(i,j,J))\n",
    "    item_2_x = gp.quicksum(lmd[i] * c[k,0] * w[i,k,0] for k in previous(i,0,J))\n",
    "    print(item_1_x.getValue()+item_2_x.getValue())"
   ]
  }
 ],
 "metadata": {
  "kernelspec": {
   "display_name": "Python 3",
   "language": "python",
   "name": "python3"
  },
  "language_info": {
   "codemirror_mode": {
    "name": "ipython",
    "version": 3
   },
   "file_extension": ".py",
   "mimetype": "text/x-python",
   "name": "python",
   "nbconvert_exporter": "python",
   "pygments_lexer": "ipython3",
   "version": "3.9.11"
  },
  "orig_nbformat": 4,
  "vscode": {
   "interpreter": {
    "hash": "aee8b7b246df8f9039afb4144a1f6fd8d2ca17a180786b69acc140d282b71a49"
   }
  }
 },
 "nbformat": 4,
 "nbformat_minor": 2
}
