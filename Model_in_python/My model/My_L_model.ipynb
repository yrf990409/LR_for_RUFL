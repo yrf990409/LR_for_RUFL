{
 "cells": [
  {
   "cell_type": "markdown",
   "metadata": {},
   "source": [
    "# 非线性模型\n"
   ]
  },
  {
   "cell_type": "code",
   "execution_count": 2,
   "metadata": {},
   "outputs": [
    {
     "name": "stdout",
     "output_type": "stream",
     "text": [
      "/Users/yurunfeng/Nutstore Files/我的坚果云/code/LR_in_python/My model\n"
     ]
    }
   ],
   "source": [
    "import gurobipy as gp\n",
    "import numpy as np\n",
    "import math\n",
    "import copy\n",
    "import os\n",
    "import sys\n",
    "\n",
    "currentPath = os.getcwd().replace('\\\\','/')    # 获取当前路径\n",
    "\n",
    "print(currentPath)\n"
   ]
  },
  {
   "cell_type": "code",
   "execution_count": 3,
   "metadata": {},
   "outputs": [],
   "source": [
    "def previous(i, j, J):\n",
    "    before = copy.deepcopy(J)\n",
    "    before = [i] + before\n",
    "    if j != 0:\n",
    "        before.remove(j)\n",
    "    return before\n",
    "\n",
    "\n",
    "def later(i, j, bar_J):\n",
    "    after = copy.deepcopy(bar_J)\n",
    "    if i != j:\n",
    "        after.remove(j)\n",
    "    return after\n",
    "\n",
    "def get_sol(x, I, bar_J, max_visit_num):\n",
    "    plan = np.zeros((len(I), max_visit_num+1))\n",
    "    for i in I:\n",
    "        plan[i-I[0], 0] = i\n",
    "        for k in later(i,i,bar_J):\n",
    "            if math.isclose(x[i,i,k].X, 1, rel_tol=0.05):\n",
    "                plan[i-I[0], 1] = k\n",
    "                ind = k\n",
    "                break\n",
    "        \n",
    "        count = 1\n",
    "        flag = False\n",
    "        while True:\n",
    "            for k in later(i, ind, bar_J):\n",
    "                if ind == bar_J[0]:\n",
    "                    flag = True\n",
    "                    break\n",
    "                if math.isclose(x[i,ind,k].X, 1, rel_tol=0.05):\n",
    "                    count = count+1\n",
    "                    plan[i-I[0], count] = k\n",
    "                    ind = k\n",
    "            \n",
    "            if flag:\n",
    "                break\n",
    "    return plan"
   ]
  },
  {
   "cell_type": "markdown",
   "metadata": {},
   "source": [
    "## 导入数据"
   ]
  },
  {
   "cell_type": "code",
   "execution_count": 4,
   "metadata": {},
   "outputs": [],
   "source": [
    "# 导入数据\n",
    "np.set_printoptions(suppress=True)    # 取消numpy打印的科学计数法\n",
    "\n",
    "\n",
    "# cost 矩阵的第一索引位置是0 默认为虚拟设施\n",
    "root = '../data/SnyderData/15nodes/'\n",
    "cost = np.loadtxt(root+'cost.csv',  # 相对路径下的csv文件\n",
    "                  dtype=None,         # 数据类型默认\n",
    "                  encoding='UTF-8',   # 注意此文件为UTF-8格式且取消BOM\n",
    "                  delimiter=',')      # 分隔符\n",
    "\n",
    "dmd = np.loadtxt(root+'dmd.csv',  # 相对路径下的csv文件\n",
    "                  dtype=None,         # 数据类型默认\n",
    "                  encoding='UTF-8',   # 注意此文件为UTF-8格式且取消BOM\n",
    "                  delimiter=',')      # 分隔符\n",
    "\n",
    "fc = np.loadtxt(root+'fc.csv',  # 相对路径下的csv文件\n",
    "                  dtype=None,         # 数据类型默认\n",
    "                  encoding='UTF-8',   # 注意此文件为UTF-8格式且取消BOM\n",
    "                  delimiter=',')      # 分隔符"
   ]
  },
  {
   "cell_type": "markdown",
   "metadata": {},
   "source": [
    "## 参数设置"
   ]
  },
  {
   "cell_type": "code",
   "execution_count": 5,
   "metadata": {},
   "outputs": [],
   "source": [
    "rho = 0.05 # 损坏概率参数\n",
    "max_visit_num = 5 # 客户的最大尝试次数\n",
    "\n",
    "q = rho * np.exp(-fc/200000) # 损坏概率\n",
    "q[0] = 1\n",
    "\n",
    "cus_num = len(dmd) # 客户数\n",
    "node_num = cost.shape[0] # 节点数（虚拟 设施 客户）\n",
    "fac_num = node_num - cus_num - 1 # 设施数\n",
    "\n",
    "# 集合设置\n",
    "J = [j for j in range(1, fac_num+1)] # 设施集合\n",
    "I = [i for i in range(fac_num+1, node_num)] # 客户集合\n",
    "bar_J = [j for j in range(0, fac_num+1)] # 设施拓展集合\n",
    "R = [r for r in range(1,max_visit_num)] # 等级\n",
    "\n",
    "# 常数集合\n",
    "lmd = {i : dmd[i-fac_num-1] for i in I} # lambda需求\n",
    "c = {(i,j) : cost[i,j] for i in bar_J+I for j in bar_J} # 价格\n",
    "f = {j : fc[j] for j in J} # 建设成本\n"
   ]
  },
  {
   "cell_type": "markdown",
   "metadata": {},
   "source": [
    "## 建模"
   ]
  },
  {
   "cell_type": "code",
   "execution_count": 6,
   "metadata": {},
   "outputs": [],
   "source": [
    "m = gp.Model()"
   ]
  },
  {
   "cell_type": "markdown",
   "metadata": {},
   "source": [
    "### 决策变量"
   ]
  },
  {
   "cell_type": "code",
   "execution_count": 7,
   "metadata": {},
   "outputs": [],
   "source": [
    "y = m.addVars((j for j in J), vtype = gp.GRB.BINARY, name = 'y')\n",
    "x = m.addVars(((i, j, j_p) for i in I for j in J+[i] for j_p in later(i,j,bar_J)), vtype = gp.GRB.BINARY,name = 'x') # 弧(j,j_p)属于客户i\n",
    "p = m.addVars(((i, j, j_p) for i in I for j in J+[i] for j_p in later(i,j,bar_J)), lb = 0, ub = 1, vtype = gp.GRB.CONTINUOUS,name = 'p') # 属于客户i的弧(j,j_p)的概率\n",
    "w = m.addVars(((i, j, j_p) for i in I for j in J+[i] for j_p in later(i,j,bar_J)), lb = 0, ub = 1, vtype = gp.GRB.CONTINUOUS,name = 'w') # 期望价格"
   ]
  },
  {
   "cell_type": "markdown",
   "metadata": {},
   "source": [
    "## 目标函数\n",
    "$$\n",
    "\\min C = \\sum_{j\\in J}f_jy_j + \\sum_{i\\in I}\\lambda_i \\sum_{k\\in J_{ij}^+}\\sum_{j\\in \\bar{J}} c_{kj} w_{ikj}\n",
    "$$"
   ]
  },
  {
   "cell_type": "code",
   "execution_count": 8,
   "metadata": {},
   "outputs": [
    {
     "name": "stdout",
     "output_type": "stream",
     "text": [
      "done\n"
     ]
    }
   ],
   "source": [
    "item_1 = gp.quicksum(f[j] * y[j] for j in J)\n",
    "item_2 = gp.quicksum((lmd[i] * c[k,j] * w[i,k,j]) for i in I for j in bar_J for k in previous(i,j,J))\n",
    "\n",
    "m.setObjective(item_1 + item_2)\n",
    "print(\"done\")"
   ]
  },
  {
   "cell_type": "markdown",
   "metadata": {},
   "source": [
    "## 约束\n",
    "$$\n",
    "% 指定给开启的节点\n",
    "\\sum_{k\\in J_{ij}^+}x_{ikj} \\le y_j ,\\forall i \\in I , j\\in J\\\\\n",
    "$$"
   ]
  },
  {
   "cell_type": "code",
   "execution_count": 9,
   "metadata": {},
   "outputs": [
    {
     "name": "stdout",
     "output_type": "stream",
     "text": [
      "done\n"
     ]
    }
   ],
   "source": [
    "m.addConstrs((gp.quicksum(x[i,k,j] for k in previous(i,j,J)) <= y[j] for i in I for j in J), name='assign2open')\n",
    "print(\"done\")"
   ]
  },
  {
   "cell_type": "markdown",
   "metadata": {},
   "source": [
    "$$\n",
    "% 流开始与结束\n",
    "\\sum_{j\\in J_{ii}^-}x_{iij} = \\sum_{j\\in J_{i{j_{0}}}^+} x_{ijj_0} = 1, \\forall i \\in I \\\\\n",
    "$$"
   ]
  },
  {
   "cell_type": "code",
   "execution_count": 10,
   "metadata": {},
   "outputs": [
    {
     "name": "stdout",
     "output_type": "stream",
     "text": [
      "done\n"
     ]
    }
   ],
   "source": [
    "m.addConstrs((gp.quicksum(x[i,i,j] for j in later(i,i,bar_J)) == 1 for i in I), name = 'flowin')\n",
    "m.addConstrs((gp.quicksum(x[i,j,0] for j in previous(i,0,J)) == 1 for i in I), name = 'flowout')\n",
    "print(\"done\")"
   ]
  },
  {
   "cell_type": "markdown",
   "metadata": {},
   "source": [
    "$$\n",
    "% 流平衡\n",
    "\\sum_{k\\in J_{ij}^-} x_{ijk} = \\sum_{k\\in J_{ij}^+} x_{ikj}, \\forall i \\in I, j \\in J \\\\\n",
    "$$"
   ]
  },
  {
   "cell_type": "code",
   "execution_count": 11,
   "metadata": {},
   "outputs": [
    {
     "name": "stdout",
     "output_type": "stream",
     "text": [
      "done\n"
     ]
    }
   ],
   "source": [
    "m.addConstrs((gp.quicksum(x[i,j,k] for k in later(i,j,bar_J)) \n",
    "           == gp.quicksum(x[i,k,j] for k in previous(i,j,J)) for i in I for j in J), name = 'balance')\n",
    "print(\"done\")"
   ]
  },
  {
   "cell_type": "markdown",
   "metadata": {},
   "source": [
    "$$\n",
    "% 概率初始化\n",
    "p_{iij} = x_{iij}, \\forall i\\in I, j\\in J_{ii}^- \\\\\n",
    "$$"
   ]
  },
  {
   "cell_type": "code",
   "execution_count": 12,
   "metadata": {},
   "outputs": [
    {
     "name": "stdout",
     "output_type": "stream",
     "text": [
      "done\n"
     ]
    }
   ],
   "source": [
    "m.addConstrs((p[i,i,j] == x[i,i,j] for i in I for j in later(i,i,bar_J)), name = 'probinit')\n",
    "print(\"done\")"
   ]
  },
  {
   "cell_type": "markdown",
   "metadata": {},
   "source": [
    "$$\n",
    "% 概率递推\n",
    "q_j\\sum_{k\\in J_{ij}^+} x_{ikj} p_{ikj}= p_{ijj'}, \\forall i \\in I, j \\in J, j'\\in J_{ij}^- \\\\\n",
    "$$"
   ]
  },
  {
   "cell_type": "code",
   "execution_count": 13,
   "metadata": {},
   "outputs": [
    {
     "name": "stdout",
     "output_type": "stream",
     "text": [
      "done\n"
     ]
    }
   ],
   "source": [
    "m.addConstrs(((q[j] * gp.quicksum(w[i,k,j] for k in previous(i,j,J)) \n",
    "== p[i,j,j_p]) for i in I for j in J for j_p in later(i,j,bar_J)), name = 'probbalance')\n",
    "print(\"done\")"
   ]
  },
  {
   "cell_type": "markdown",
   "metadata": {},
   "source": [
    "$$\n",
    "% 尝试次数\n",
    "\\sum_{j\\in J\\cup\\{i\\}} \\sum_{k\\in J_{ij}^-} x_{ijk} \\le R, \\forall i\\in I \n",
    "$$"
   ]
  },
  {
   "cell_type": "code",
   "execution_count": 14,
   "metadata": {},
   "outputs": [
    {
     "name": "stdout",
     "output_type": "stream",
     "text": [
      "done\n"
     ]
    }
   ],
   "source": [
    "m.addConstrs(((gp.quicksum(x[i,j,k] for j in J+[i] for k in later(i,j,bar_J))) <= max_visit_num for i in I), name = 'maxtry')\n",
    "print(\"done\")"
   ]
  },
  {
   "cell_type": "markdown",
   "metadata": {},
   "source": [
    "$$\n",
    "\n",
    "% 上界1\n",
    "w_{ijk} \\le p_{ijk}, \\forall i \\in I, j \\in J+\\{i\\}, j'\\in J_{ij}^- \\\\\n",
    "% 上界2\n",
    "w_{ijk} \\le x_{ijk}, \\forall i \\in I, j \\in J+\\{i\\}, j'\\in J_{ij}^- \\\\\n",
    "% 下界\n",
    "w_{ijk} \\ge p_{ijk} + x_{ijk} - 1, \\forall i \\in I, j \\in J+\\{i\\}, j'\\in J_{ij}^-\\\\\n",
    "% 范围\n",
    "\n",
    "$$"
   ]
  },
  {
   "cell_type": "code",
   "execution_count": 15,
   "metadata": {},
   "outputs": [
    {
     "name": "stdout",
     "output_type": "stream",
     "text": [
      "done\n"
     ]
    }
   ],
   "source": [
    "m.addConstrs((w[i,j,k] <= p[i,j,k] for i in I for j in J+[i] for k in later(i,j,bar_J)), name='u1b')\n",
    "m.addConstrs((w[i,j,k] <= x[i,j,k] for i in I for j in J+[i] for k in later(i,j,bar_J)), name='u2b')\n",
    "m.addConstrs((w[i,j,k] >= p[i,j,k] + x[i,j,k] -1 for i in I for j in J+[i] for k in later(i,j,bar_J)), name='lb')\n",
    "print(\"done\")"
   ]
  },
  {
   "cell_type": "code",
   "execution_count": 16,
   "metadata": {},
   "outputs": [],
   "source": [
    "# 测试代码\n",
    "for j in J:\n",
    "    if j in [1,3,5,7,22,30]:\n",
    "    # if j in [ 2,     6,     7,     8,     9,    10,    11,    12,    13,    15]:\n",
    "        m.addConstr(y[j] == 1)\n",
    "    else:\n",
    "        m.addConstr(y[j] == 0)\n"
   ]
  },
  {
   "cell_type": "markdown",
   "metadata": {},
   "source": [
    "## 求解"
   ]
  },
  {
   "cell_type": "code",
   "execution_count": 17,
   "metadata": {},
   "outputs": [],
   "source": [
    "# m.write('test.lp')"
   ]
  },
  {
   "cell_type": "code",
   "execution_count": 18,
   "metadata": {},
   "outputs": [
    {
     "name": "stdout",
     "output_type": "stream",
     "text": [
      "Set parameter MIPGap to value 3e-06\n",
      "Set parameter TimeLimit to value 1000\n",
      "Gurobi Optimizer version 9.5.2 build v9.5.2rc0 (mac64[arm])\n",
      "Thread count: 8 physical cores, 8 logical processors, using up to 8 threads\n",
      "Optimize a model with 14970 rows, 10860 columns and 94245 nonzeros\n",
      "Model fingerprint: 0x2b6dd2e5\n",
      "Variable types: 7230 continuous, 3630 integer (3630 binary)\n",
      "Coefficient statistics:\n",
      "  Matrix range     [2e-02, 1e+00]\n",
      "  Objective range  [7e+03, 3e+06]\n",
      "  Bounds range     [1e+00, 1e+00]\n",
      "  RHS range        [1e+00, 5e+00]\n",
      "Found heuristic solution: objective 1.677596e+07\n",
      "Presolve removed 14915 rows and 10819 columns\n",
      "Presolve time: 0.04s\n",
      "Presolved: 55 rows, 41 columns, 206 nonzeros\n",
      "Found heuristic solution: objective 1190140.5299\n",
      "Variable types: 20 continuous, 21 integer (21 binary)\n",
      "\n",
      "Root relaxation: objective 7.099467e+05, 12 iterations, 0.00 seconds (0.00 work units)\n",
      "\n",
      "    Nodes    |    Current Node    |     Objective Bounds      |     Work\n",
      " Expl Unexpl |  Obj  Depth IntInf | Incumbent    BestBd   Gap | It/Node Time\n",
      "\n",
      "     0     0 709946.717    0    3 1190140.53 709946.717  40.3%     -    0s\n",
      "H    0     0                    710705.74884 709946.717  0.11%     -    0s\n",
      "     0     0 709946.717    0    4 710705.749 709946.717  0.11%     -    0s\n",
      "     0     0 709946.717    0    4 710705.749 709946.717  0.11%     -    0s\n",
      "H    0     0                    710182.69399 709946.717  0.03%     -    0s\n",
      "H    0     0                    710075.81983 709946.717  0.02%     -    0s\n",
      "\n",
      "Explored 1 nodes (14 simplex iterations) in 0.07 seconds (0.04 work units)\n",
      "Thread count was 8 (of 8 available processors)\n",
      "\n",
      "Solution count 5: 710076 710183 710706 ... 1.6776e+07\n",
      "\n",
      "Optimal solution found (tolerance 3.00e-06)\n",
      "Best objective 7.100758198267e+05, best bound 7.100758198267e+05, gap 0.0000%\n",
      "求解完成\n"
     ]
    }
   ],
   "source": [
    "m.Params.MIPGap = 0.000003\n",
    "m.Params.timeLimit = 1000\n",
    "\n",
    "# m.Params.LogFile =  \"SolvingLog.log\"\n",
    "# m.write('Model.lp')\n",
    "\n",
    "m.optimize()\n",
    "\n",
    "# m.computeIIS()\n",
    "# m.write('Model.ilp')\n",
    "# m.write('Model.lp')\n",
    "\n",
    "# m.write('Solution.sol')\n",
    "\n",
    "print('求解完成')"
   ]
  },
  {
   "cell_type": "code",
   "execution_count": 19,
   "metadata": {},
   "outputs": [],
   "source": [
    "plan = get_sol(x, I, bar_J, max_visit_num)"
   ]
  },
  {
   "cell_type": "code",
   "execution_count": 24,
   "metadata": {},
   "outputs": [
    {
     "name": "stdout",
     "output_type": "stream",
     "text": [
      "710075.82\t710075.82\t0.09\n",
      "\n"
     ]
    }
   ],
   "source": [
    "print('%.2f\\t%.2f\\t%.2f\\n' %(m.objVal, m.ObjBound, m.RunTime))"
   ]
  }
 ],
 "metadata": {
  "kernelspec": {
   "display_name": "Python 3.10.8 64-bit",
   "language": "python",
   "name": "python3"
  },
  "language_info": {
   "codemirror_mode": {
    "name": "ipython",
    "version": 3
   },
   "file_extension": ".py",
   "mimetype": "text/x-python",
   "name": "python",
   "nbconvert_exporter": "python",
   "pygments_lexer": "ipython3",
   "version": "3.10.8"
  },
  "orig_nbformat": 4,
  "vscode": {
   "interpreter": {
    "hash": "aee8b7b246df8f9039afb4144a1f6fd8d2ca17a180786b69acc140d282b71a49"
   }
  }
 },
 "nbformat": 4,
 "nbformat_minor": 2
}
