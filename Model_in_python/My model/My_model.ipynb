{
 "cells": [
  {
   "cell_type": "markdown",
   "metadata": {},
   "source": [
    "# 非线性模型\n"
   ]
  },
  {
   "cell_type": "code",
   "execution_count": 4,
   "metadata": {},
   "outputs": [],
   "source": [
    "import gurobipy as gp\n",
    "import numpy as np\n",
    "import math\n",
    "import copy"
   ]
  },
  {
   "cell_type": "code",
   "execution_count": 5,
   "metadata": {},
   "outputs": [],
   "source": [
    "def previous(i, j, J):\n",
    "    before = copy.deepcopy(J)\n",
    "    before = [i] + before\n",
    "    if j != 0:\n",
    "        before.remove(j)\n",
    "    return before\n",
    "\n",
    "\n",
    "def later(i, j, bar_J):\n",
    "    after = copy.deepcopy(bar_J)\n",
    "    if i != j:\n",
    "        after.remove(j)\n",
    "    return after"
   ]
  },
  {
   "cell_type": "markdown",
   "metadata": {},
   "source": [
    "## 导入数据"
   ]
  },
  {
   "cell_type": "code",
   "execution_count": 6,
   "metadata": {},
   "outputs": [],
   "source": [
    "# 导入数据\n",
    "np.set_printoptions(suppress=True)    # 取消numpy打印的科学计数法\n",
    "\n",
    "\n",
    "# cost 矩阵的第一索引位置是0 默认为虚拟设施\n",
    "root = '../data/SnyderData/15nodes/'\n",
    "cost = np.loadtxt(root+'cost.csv',  # 相对路径下的csv文件\n",
    "                  dtype=None,         # 数据类型默认\n",
    "                  encoding='UTF-8',   # 注意此文件为UTF-8格式且取消BOM\n",
    "                  delimiter=',')      # 分隔符\n",
    "\n",
    "dmd = np.loadtxt(root+'dmd.csv',  # 相对路径下的csv文件\n",
    "                  dtype=None,         # 数据类型默认\n",
    "                  encoding='UTF-8',   # 注意此文件为UTF-8格式且取消BOM\n",
    "                  delimiter=',')      # 分隔符\n",
    "\n",
    "fc = np.loadtxt(root+'fc.csv',  # 相对路径下的csv文件\n",
    "                  dtype=None,         # 数据类型默认\n",
    "                  encoding='UTF-8',   # 注意此文件为UTF-8格式且取消BOM\n",
    "                  delimiter=',')      # 分隔符"
   ]
  },
  {
   "cell_type": "markdown",
   "metadata": {},
   "source": [
    "## 参数设置"
   ]
  },
  {
   "cell_type": "code",
   "execution_count": 7,
   "metadata": {},
   "outputs": [],
   "source": [
    "rou = 0.05 # 损坏概率参数\n",
    "max_visit_num = 5 # 客户的最大尝试次数"
   ]
  },
  {
   "cell_type": "code",
   "execution_count": 8,
   "metadata": {},
   "outputs": [],
   "source": [
    "q = rou * np.exp(-fc/200000) # 损坏概率\n",
    "q[0] = 1\n",
    "\n",
    "cus_num = len(dmd) # 客户数\n",
    "node_num = cost.shape[0] # 节点数（虚拟 设施 客户）\n",
    "fac_num = node_num - cus_num - 1 # 设施数\n",
    "\n",
    "# 集合设置\n",
    "J = [j for j in range(1, fac_num+1)] # 设施集合\n",
    "I = [i for i in range(fac_num+1, node_num)] # 客户集合\n",
    "bar_J = [j for j in range(0, fac_num+1)] # 设施拓展集合\n",
    "R = [r for r in range(1,max_visit_num)] # 等级\n",
    "\n",
    "# 常数集合\n",
    "lmd = {i : dmd[i-fac_num-1] for i in I} # lambda需求\n",
    "c = {(i,j) : cost[i,j] for i in bar_J+I for j in bar_J} # 价格\n",
    "f = {j : fc[j] for j in J} # 建设成本\n"
   ]
  },
  {
   "cell_type": "markdown",
   "metadata": {},
   "source": [
    "## 建模"
   ]
  },
  {
   "cell_type": "code",
   "execution_count": 9,
   "metadata": {},
   "outputs": [],
   "source": [
    "m = gp.Model()"
   ]
  },
  {
   "cell_type": "markdown",
   "metadata": {},
   "source": [
    "### 决策变量"
   ]
  },
  {
   "cell_type": "code",
   "execution_count": 10,
   "metadata": {},
   "outputs": [],
   "source": [
    "y = m.addVars((j for j in J), vtype = gp.GRB.BINARY, name = 'y')\n",
    "x = m.addVars(((i, j, j_p) for i in I for j in J+[i] for j_p in later(i,j,bar_J)), vtype = gp.GRB.BINARY,name = 'x') # 弧(j,j_p)属于客户i\n",
    "p = m.addVars(((i, j, j_p) for i in I for j in J+[i] for j_p in later(i,j,bar_J)), lb = 0, ub = 1, vtype = gp.GRB.CONTINUOUS,name = 'p') # 属于客户i的弧(j,j_p)的概率"
   ]
  },
  {
   "cell_type": "markdown",
   "metadata": {},
   "source": [
    "## 目标函数\n",
    "$$\n",
    "\\min C = \\sum_{j\\in J}f_jy_j + \\sum_{i\\in I}\\lambda_i \\sum_{k\\in J_{ij}^+}\\sum_{j\\in \\bar{J}} c_{kj} p_{ikj} x_{ikj}\n",
    "$$"
   ]
  },
  {
   "cell_type": "code",
   "execution_count": 11,
   "metadata": {},
   "outputs": [
    {
     "name": "stdout",
     "output_type": "stream",
     "text": [
      "done\n"
     ]
    }
   ],
   "source": [
    "item_1 = gp.quicksum(f[j] * y[j] for j in J)\n",
    "item_2 = gp.quicksum((lmd[i] * c[k,j] * p[i,k,j] * x[i,k,j]) for i in I for j in bar_J for k in previous(i,j,J))\n",
    "\n",
    "m.setObjective(item_1 + item_2)\n",
    "print(\"done\")"
   ]
  },
  {
   "cell_type": "markdown",
   "metadata": {},
   "source": [
    "## 约束\n",
    "$$\n",
    "% 指定给开启的节点\n",
    "\\sum_{k\\in J_{ij}^+}x_{ikj} \\le y_j ,\\forall i \\in I , j\\in J\\\\\n",
    "$$"
   ]
  },
  {
   "cell_type": "code",
   "execution_count": 12,
   "metadata": {},
   "outputs": [
    {
     "name": "stdout",
     "output_type": "stream",
     "text": [
      "done\n"
     ]
    }
   ],
   "source": [
    "m.addConstrs((gp.quicksum(x[i,k,j] for k in previous(i,j,J)) <= y[j] for i in I for j in J), name='assign2open')\n",
    "print(\"done\")"
   ]
  },
  {
   "cell_type": "markdown",
   "metadata": {},
   "source": [
    "$$\n",
    "% 流开始与结束\n",
    "\\sum_{j\\in J_{ii}^-}x_{iij} = \\sum_{j\\in J_{i{j_{0}}}^+} x_{ijj_0} = 1, \\forall i \\in I \\\\\n",
    "$$"
   ]
  },
  {
   "cell_type": "code",
   "execution_count": 13,
   "metadata": {},
   "outputs": [
    {
     "name": "stdout",
     "output_type": "stream",
     "text": [
      "done\n"
     ]
    }
   ],
   "source": [
    "m.addConstrs((gp.quicksum(x[i,i,j] for j in later(i,i,bar_J)) == 1 for i in I), name = 'flowin')\n",
    "m.addConstrs((gp.quicksum(x[i,j,0] for j in previous(i,0,J)) == 1 for i in I), name = 'flowout')\n",
    "print(\"done\")"
   ]
  },
  {
   "cell_type": "markdown",
   "metadata": {},
   "source": [
    "$$\n",
    "% 流平衡\n",
    "\\sum_{k\\in J_{ij}^-} x_{ijk} = \\sum_{k\\in J_{ij}^+} x_{ikj}, \\forall i \\in I, j \\in J \\\\\n",
    "$$"
   ]
  },
  {
   "cell_type": "code",
   "execution_count": 14,
   "metadata": {},
   "outputs": [
    {
     "name": "stdout",
     "output_type": "stream",
     "text": [
      "done\n"
     ]
    }
   ],
   "source": [
    "m.addConstrs((gp.quicksum(x[i,j,k] for k in later(i,j,bar_J)) \n",
    "           == gp.quicksum(x[i,k,j] for k in previous(i,j,J)) for i in I for j in J), name = 'balance')\n",
    "print(\"done\")"
   ]
  },
  {
   "cell_type": "markdown",
   "metadata": {},
   "source": [
    "$$\n",
    "% 概率初始化\n",
    "p_{iij} = x_{iij}, \\forall i\\in I, j\\in J_{ii}^- \\\\\n",
    "$$"
   ]
  },
  {
   "cell_type": "code",
   "execution_count": 15,
   "metadata": {},
   "outputs": [
    {
     "name": "stdout",
     "output_type": "stream",
     "text": [
      "done\n"
     ]
    }
   ],
   "source": [
    "m.addConstrs((p[i,i,j] == x[i,i,j] for i in I for j in later(i,i,bar_J)), name = 'probinit')\n",
    "print(\"done\")"
   ]
  },
  {
   "cell_type": "markdown",
   "metadata": {},
   "source": [
    "$$\n",
    "% 概率递推\n",
    "q_j\\sum_{k\\in J_{ij}^+} x_{ikj} p_{ikj}= p_{ijj'}, \\forall i \\in I, j \\in J, j'\\in J_{ij}^- \\\\\n",
    "$$"
   ]
  },
  {
   "cell_type": "code",
   "execution_count": 16,
   "metadata": {},
   "outputs": [
    {
     "name": "stdout",
     "output_type": "stream",
     "text": [
      "done\n"
     ]
    }
   ],
   "source": [
    "m.addConstrs(((q[j] * gp.quicksum(x[i,k,j] * p[i,k,j] for k in previous(i,j,J)) \n",
    "== p[i,j,j_p]) for i in I for j in J for j_p in later(i,j,bar_J)), name = 'probbalance')\n",
    "print(\"done\")"
   ]
  },
  {
   "cell_type": "markdown",
   "metadata": {},
   "source": [
    "$$\n",
    "% 尝试次数\n",
    "\\sum_{j\\in J\\cup\\{i\\}} \\sum_{k\\in J_{ij}^-} x_{ijk} \\le R, \\forall i\\in I \n",
    "$$"
   ]
  },
  {
   "cell_type": "code",
   "execution_count": 17,
   "metadata": {},
   "outputs": [
    {
     "name": "stdout",
     "output_type": "stream",
     "text": [
      "done\n"
     ]
    }
   ],
   "source": [
    "m.addConstrs(((gp.quicksum(x[i,j,k] for j in J+[i] for k in later(i,j,bar_J))) <= max_visit_num for i in I), name = 'maxtry')\n",
    "print(\"done\")"
   ]
  },
  {
   "cell_type": "code",
   "execution_count": 18,
   "metadata": {},
   "outputs": [],
   "source": [
    "# # 测试代码\n",
    "# for j in J:\n",
    "#     if j in [1,3,5,7,22,30]:\n",
    "#         m.addConstr(y[j] == 1)\n",
    "#     else:\n",
    "#         m.addConstr(y[j] == 0)\n"
   ]
  },
  {
   "cell_type": "markdown",
   "metadata": {},
   "source": [
    "## 求解"
   ]
  },
  {
   "cell_type": "code",
   "execution_count": 19,
   "metadata": {},
   "outputs": [
    {
     "name": "stdout",
     "output_type": "stream",
     "text": [
      "Set parameter MIPGap to value 1e-05\n",
      "Set parameter TimeLimit to value 1000\n",
      "Gurobi Optimizer version 9.5.2 build v9.5.2rc0 (mac64[arm])\n",
      "Thread count: 8 physical cores, 8 logical processors, using up to 8 threads\n",
      "Optimize a model with 7399 rows, 240247 columns and 485247 nonzeros\n",
      "Model fingerprint: 0x5bfd8f0a\n",
      "Model has 120050 quadratic objective terms\n",
      "Model has 117649 quadratic constraints\n",
      "Variable types: 120099 continuous, 120148 integer (120148 binary)\n",
      "Coefficient statistics:\n",
      "  Matrix range     [1e+00, 1e+00]\n",
      "  QMatrix range    [2e-02, 4e-02]\n",
      "  QLMatrix range   [1e+00, 1e+00]\n",
      "  Objective range  [4e+04, 2e+05]\n",
      "  QObjective range [3e+02, 6e+06]\n",
      "  Bounds range     [1e+00, 1e+00]\n",
      "  RHS range        [1e+00, 5e+00]\n",
      "Presolve added 111478 rows and 0 columns\n",
      "Presolve removed 0 rows and 3770 columns\n",
      "Presolve time: 4.13s\n",
      "Presolved: 469423 rows, 354126 columns, 1637390 nonzeros\n",
      "Variable types: 233978 continuous, 120148 integer (120148 binary)\n",
      "\n",
      "Deterministic concurrent LP optimizer: primal and dual simplex\n",
      "Showing first log only...\n",
      "\n",
      "\n",
      "Root simplex log...\n",
      "\n",
      "Iteration    Objective       Primal Inf.    Dual Inf.      Time\n",
      "       1    1.2390771e+09   0.000000e+00   2.887016e+09     11s\n",
      "   14674    2.4637134e+07   0.000000e+00   5.519464e+10     15s\n",
      "   18769    2.4580045e+07   0.000000e+00   1.270831e+11     20s\n",
      "   22829    2.4515926e+07   0.000000e+00   3.346938e+10     25s\n",
      "   26634    2.4450799e+07   0.000000e+00   5.462916e+11     30s\n",
      "Concurrent spin time: 0.01s\n",
      "\n",
      "Solved with dual simplex\n",
      "\n",
      "Root relaxation: objective 9.511843e+05, 26199 iterations, 22.59 seconds (52.34 work units)\n",
      "Total elapsed time = 31.40s\n",
      "\n",
      "    Nodes    |    Current Node    |     Objective Bounds      |     Work\n",
      " Expl Unexpl |  Obj  Depth IntInf | Incumbent    BestBd   Gap | It/Node Time\n",
      "\n",
      "     0     0 951184.310    0  147          - 951184.310      -     -   32s\n",
      "H    0     0                    1846647.4796 951184.310  48.5%     -   36s\n",
      "H    0     0                    1845531.5146 951184.310  48.5%     -   40s\n",
      "H    0     0                    1027318.2880 951184.310  7.41%     -   54s\n",
      "     0     0 951184.310    0  196 1027318.29 951184.310  7.41%     -   60s\n",
      "H    0     0                    1025180.6821 951184.310  7.22%     -   72s\n",
      "     0     0 951184.310    0  196 1025180.68 951184.310  7.22%     -   73s\n",
      "     0     0 951184.310    0  151 1025180.68 951184.310  7.22%     -   79s\n",
      "     0     0 951184.310    0  164 1025180.68 951184.310  7.22%     -   82s\n",
      "     0     0 951446.763    0  463 1025180.68 951446.763  7.19%     -   90s\n",
      "H    0     0                    1021225.6435 951446.763  6.83%     -  106s\n",
      "     0     0 951446.763    0  478 1021225.64 951446.763  6.83%     -  107s\n",
      "     0     0 951870.450    0  453 1021225.64 951870.450  6.79%     -  114s\n",
      "     0     0 958736.935    0  687 1021225.64 958736.935  6.12%     -  127s\n",
      "     0     0 958739.472    0  712 1021225.64 958739.472  6.12%     -  128s\n",
      "     0     0 961384.667    0  455 1021225.64 961384.667  5.86%     -  131s\n",
      "H    0     0                    1018342.7716 961384.667  5.59%     -  154s\n",
      "     0     0 964126.110    0 1022 1018342.77 964126.110  5.32%     -  157s\n",
      "     0     0 964680.510    0 1394 1018342.77 964680.510  5.27%     -  160s\n",
      "     0     0 964710.115    0 1384 1018342.77 964710.115  5.27%     -  162s\n",
      "     0     0 965939.240    0  409 1018342.77 965939.240  5.15%     -  165s\n",
      "     0     0 965959.999    0 1578 1018342.77 965959.999  5.14%     -  172s\n",
      "     0     0 967459.528    0 1441 1018342.77 967459.528  5.00%     -  174s\n",
      "     0     0 967896.448    0 1374 1018342.77 967896.448  4.95%     -  178s\n",
      "     0     0 970999.187    0 1008 1018342.77 970999.187  4.65%     -  183s\n",
      "     0     0 971070.574    0 1236 1018342.77 971070.574  4.64%     -  184s\n",
      "     0     0 972332.604    0  244 1018342.77 972332.604  4.52%     -  188s\n",
      "H    0     0                    1018243.3328 972332.604  4.51%     -  204s\n",
      "     0     0 973987.457    0  669 1018243.33 973987.457  4.35%     -  207s\n",
      "     0     0 976208.777    0 1179 1018243.33 976208.777  4.13%     -  209s\n",
      "     0     0 976234.931    0  921 1018243.33 976234.931  4.13%     -  210s\n",
      "     0     0 977250.447    0 1040 1018243.33 977250.447  4.03%     -  214s\n",
      "     0     0 977340.637    0  932 1018243.33 977340.637  4.02%     -  220s\n",
      "     0     0 977862.889    0 1310 1018243.33 977862.889  3.97%     -  224s\n",
      "     0     0 977899.943    0 1325 1018243.33 977899.943  3.96%     -  228s\n",
      "     0     0 978110.011    0 1295 1018243.33 978110.011  3.94%     -  231s\n",
      "     0     0 978145.263    0 1344 1018243.33 978145.263  3.94%     -  234s\n",
      "     0     0 978972.248    0 1357 1018243.33 978972.248  3.86%     -  237s\n",
      "     0     0 978972.248    0 1137 1018243.33 978972.248  3.86%     -  241s\n",
      "     0     2 978972.248    0 1118 1018243.33 978972.248  3.86%     -  260s\n",
      "     3     8 981889.686    2 1163 1018243.33 979074.380  3.85%  3264  271s\n",
      "     7    16 981939.578    3 1383 1018243.33 979377.255  3.82%  2343  278s\n",
      "    15    24 981943.736    4 1432 1018243.33 981311.017  3.63%  1880  284s\n",
      "    23    32 981944.867    5 1405 1018243.33 981319.908  3.63%  1490  289s\n",
      "    31    40 981953.521    6 1339 1018243.33 981319.908  3.63%  1288  292s\n",
      "    39    48 981965.448    7 1018 1018243.33 981319.908  3.63%  1196  299s\n",
      "    47    57 981982.280    8 1386 1018243.33 981319.908  3.63%  1229  303s\n",
      "    56    68 981982.566    9 1054 1018243.33 981319.908  3.63%  1163  307s\n",
      "    67    79 981982.916   11 1045 1018243.33 981319.908  3.63%  1044  311s\n",
      "    78    90 982239.758   13  483 1018243.33 981319.908  3.63%   985  316s\n",
      "    89   104 982311.765   14  484 1018243.33 981319.908  3.63%   923  320s\n",
      "   118   135 982337.641   15  537 1018243.33 981319.908  3.63%   800  328s\n",
      "   134   150 982522.058   17  653 1018243.33 981319.908  3.63%   744  332s\n",
      "   149   168 983010.519   18 1128 1018243.33 981319.908  3.63%   731  338s\n",
      "   167   191 983016.118   19  955 1018243.33 981319.908  3.63%   683  343s\n",
      "   192   216 983128.482   21  678 1018243.33 981319.908  3.63%   615  348s\n",
      "   219   247 983173.272   23  490 1018243.33 981319.908  3.63%   555  353s\n",
      "   254   273 983199.159   26  547 1018243.33 981319.908  3.63%   494  359s\n",
      "   285   313 983210.521   29  533 1018243.33 981319.908  3.63%   452  364s\n",
      "   332   331 983259.334   34  463 1018243.33 981319.908  3.63%   400  369s\n",
      "   357   358 983271.911   38  216 1018243.33 981319.908  3.63%   395  375s\n",
      "   391   391 997758.972   41  217 1018243.33 981319.908  3.63%   374  381s\n",
      "   439   435 983504.005   48  400 1018243.33 981319.908  3.63%   350  387s\n",
      "   493   489 983598.840   54  493 1018243.33 981319.908  3.63%   319  393s\n",
      "   557   529 984233.696   59  378 1018243.33 981319.908  3.63%   290  400s\n",
      "   625   566 995571.559   66  453 1018243.33 981319.908  3.63%   269  406s\n",
      "   668   604 995735.793   69  512 1018243.33 981319.908  3.63%   267  414s\n",
      "   723   650 995808.665   73  499 1018243.33 981319.908  3.63%   256  421s\n",
      "   782   675 995946.296   78  340 1018243.33 981319.908  3.63%   245  431s\n",
      "   827   707 996172.028   82  450 1018243.33 981319.908  3.63%   246  440s\n",
      "   868   742 996483.565   96  257 1018243.33 981319.908  3.63%   246  448s\n",
      "   910   771 999630.740  105  211 1018243.33 981319.908  3.63%   246  457s\n",
      "   956   816     cutoff  109      1018243.33 981950.638  3.56%   245  465s\n",
      "  1007   881 989989.284    5  776 1018243.33 981950.638  3.56%   244  473s\n",
      "  1072   948     cutoff    9      1018243.33 981950.638  3.56%   240  481s\n",
      "  1143  1000 991622.441   10  735 1018243.33 981950.638  3.56%   232  490s\n",
      "  1205  1045 992248.490   14  896 1018243.33 981950.638  3.56%   231  500s\n",
      "  1274  1110 992379.100   17  369 1018243.33 981950.638  3.56%   231  508s\n",
      "  1358  1162 992403.727   19  305 1018243.33 981950.638  3.56%   226  516s\n",
      "  1447  1163 1012286.10   20 57033 1018243.33 981950.638  3.56%   222  669s\n",
      "H 1448  1105                    1018146.4028 981950.638  3.56%   221  784s\n",
      "H 1448  1050                    1018144.0824 981950.638  3.55%   221  802s\n",
      "  1450  1051 1012105.11  171  212 1018144.08 981950.638  3.55%   221  838s\n",
      "  1451  1052 1009772.07  135  318 1018144.08 981950.638  3.55%   221  862s\n",
      "H 1451   999                    1018144.0731 981950.638  3.55%   221  911s\n",
      "  1453  1000 993897.898   35  316 1018144.07 981950.638  3.55%   221  946s\n",
      "  1454  1001 993170.368   12  681 1018144.07 981950.638  3.55%   220  981s\n",
      "\n",
      "Cutting planes:\n",
      "  MIR: 31\n",
      "  Flow cover: 373\n",
      "  Zero half: 2\n",
      "\n",
      "Explored 1454 nodes (566425 simplex iterations) in 1000.51 seconds (1158.11 work units)\n",
      "Thread count was 8 (of 8 available processors)\n",
      "\n",
      "Solution count 9: 1.01814e+06 1.01815e+06 1.01824e+06 ... 1.84665e+06\n",
      "\n",
      "Time limit reached\n",
      "Best objective 1.018144509742e+06, best bound 9.819506382207e+05, gap 3.5549%\n",
      "求解完成\n"
     ]
    }
   ],
   "source": [
    "m.Params.MIPGap = 0.00001\n",
    "m.Params.timeLimit = 1000\n",
    "\n",
    "# m.Params.LogFile =  \"SolvingLog.log\"\n",
    "# m.write('Model.lp')\n",
    "\n",
    "m.optimize()\n",
    "\n",
    "# m.computeIIS()\n",
    "# m.write('Model.ilp')\n",
    "# m.write('Model.lp')\n",
    "\n",
    "m.write('Solution.sol')\n",
    "\n",
    "print('求解完成')"
   ]
  }
 ],
 "metadata": {
  "kernelspec": {
   "display_name": "Python 3.10.8 64-bit",
   "language": "python",
   "name": "python3"
  },
  "language_info": {
   "codemirror_mode": {
    "name": "ipython",
    "version": 3
   },
   "file_extension": ".py",
   "mimetype": "text/x-python",
   "name": "python",
   "nbconvert_exporter": "python",
   "pygments_lexer": "ipython3",
   "version": "3.10.8"
  },
  "orig_nbformat": 4,
  "vscode": {
   "interpreter": {
    "hash": "aee8b7b246df8f9039afb4144a1f6fd8d2ca17a180786b69acc140d282b71a49"
   }
  }
 },
 "nbformat": 4,
 "nbformat_minor": 2
}
