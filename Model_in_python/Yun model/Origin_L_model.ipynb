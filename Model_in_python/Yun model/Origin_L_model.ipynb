{
 "cells": [
  {
   "cell_type": "markdown",
   "metadata": {},
   "source": [
    "# 线性模型\n"
   ]
  },
  {
   "cell_type": "code",
   "execution_count": 1,
   "metadata": {},
   "outputs": [],
   "source": [
    "import gurobipy as gp\n",
    "import numpy as np\n",
    "import math\n",
    "import copy"
   ]
  },
  {
   "cell_type": "code",
   "execution_count": 2,
   "metadata": {},
   "outputs": [],
   "source": [
    "def J_minus(j, bar_J):\n",
    "    # j 之后的设施集合\n",
    "    if j == 0:\n",
    "        j_minus = [j]\n",
    "    else:\n",
    "        j_minus = copy.deepcopy(bar_J)\n",
    "        j_minus.remove(j)\n",
    "    return j_minus\n",
    "\n",
    "\n",
    "def J_plus(j, bar_J):\n",
    "    # j 之前的设施集合\n",
    "    if j == 0:\n",
    "        j_plus = copy.deepcopy(bar_J)\n",
    "    else:\n",
    "        j_plus = copy.deepcopy(bar_J)\n",
    "        j_plus.remove(j)\n",
    "        j_plus.remove(0)\n",
    "    return j_plus"
   ]
  },
  {
   "cell_type": "markdown",
   "metadata": {},
   "source": [
    "## 导入数据"
   ]
  },
  {
   "cell_type": "code",
   "execution_count": 3,
   "metadata": {},
   "outputs": [],
   "source": [
    "# 导入数据\n",
    "np.set_printoptions(suppress=True)    # 取消numpy打印的科学计数法\n",
    "\n",
    "\n",
    "# cost 矩阵的第一索引位置是0 默认为虚拟设施\n",
    "root = '../data/SnyderData/49nodes/'\n",
    "cost = np.loadtxt(root+'cost.csv',  # 相对路径下的csv文件\n",
    "                  dtype=None,         # 数据类型默认\n",
    "                  encoding='UTF-8',   # 注意此文件为UTF-8格式且取消BOM\n",
    "                  delimiter=',')      # 分隔符\n",
    "\n",
    "dmd = np.loadtxt(root+'dmd.csv',  # 相对路径下的csv文件\n",
    "                  dtype=None,         # 数据类型默认\n",
    "                  encoding='UTF-8',   # 注意此文件为UTF-8格式且取消BOM\n",
    "                  delimiter=',')      # 分隔符\n",
    "\n",
    "fc = np.loadtxt(root+'fc.csv',  # 相对路径下的csv文件\n",
    "                  dtype=None,         # 数据类型默认\n",
    "                  encoding='UTF-8',   # 注意此文件为UTF-8格式且取消BOM\n",
    "                  delimiter=',')      # 分隔符"
   ]
  },
  {
   "cell_type": "markdown",
   "metadata": {},
   "source": [
    "## 参数设置"
   ]
  },
  {
   "cell_type": "code",
   "execution_count": 4,
   "metadata": {},
   "outputs": [],
   "source": [
    "rou = 0.05 # 损坏概率参数\n",
    "max_visit_num = 5 # 客户的最大尝试次数"
   ]
  },
  {
   "cell_type": "code",
   "execution_count": 5,
   "metadata": {},
   "outputs": [],
   "source": [
    "q = 0.05 * np.exp(-fc/200000) # 损坏概率\n",
    "q[0] = 1\n",
    "\n",
    "cus_num = len(dmd) # 客户数\n",
    "node_num = cost.shape[0] # 节点数（虚拟 设施 客户）\n",
    "fac_num = node_num - cus_num - 1 # 设施数\n",
    "\n",
    "# 集合设置\n",
    "J = [j for j in range(1, fac_num+1)] # 设施集合\n",
    "I = [i for i in range(fac_num+1, node_num)] # 客户集合\n",
    "bar_J = [j for j in range(0, fac_num+1)] # 设施拓展集合\n",
    "R = [r for r in range(1,max_visit_num)] # 等级\n",
    "\n",
    "# 常数集合\n",
    "lmd = {i : dmd[i-fac_num-1] for i in I} # lambda需求\n",
    "c = {(i,j) : cost[i,j] for i in bar_J+I for j in bar_J} # 价格\n",
    "f = {j : fc[j] for j in J} # 建设成本\n"
   ]
  },
  {
   "cell_type": "markdown",
   "metadata": {},
   "source": [
    "## 建模"
   ]
  },
  {
   "cell_type": "code",
   "execution_count": 6,
   "metadata": {},
   "outputs": [],
   "source": [
    "m = gp.Model()"
   ]
  },
  {
   "cell_type": "markdown",
   "metadata": {},
   "source": [
    "### 决策变量"
   ]
  },
  {
   "cell_type": "code",
   "execution_count": 7,
   "metadata": {},
   "outputs": [],
   "source": [
    "x = m.addVars(((i,j,j_p,r) for i in I for j in bar_J for j_p in bar_J for r in R), vtype = gp.GRB.BINARY,name = 'x')\n",
    "y = m.addVars((j for j in J), vtype = gp.GRB.BINARY, name = 'y')\n",
    "z = m.addVars(((i,j) for i in I for j in bar_J), vtype = gp.GRB.BINARY, name = 'z')\n",
    "p = m.addVars(((i,j,j_p,r) for i in I for j in bar_J for j_p in bar_J for r in R), lb = 0, ub = 1, vtype = gp.GRB.CONTINUOUS,name = 'p')\n",
    "w = m.addVars(((i,j,j_p,r) for i in I for j in bar_J for j_p in bar_J for r in R), lb = 0, ub = 1, vtype = gp.GRB.CONTINUOUS,name = 'w')"
   ]
  },
  {
   "cell_type": "markdown",
   "metadata": {},
   "source": [
    "## 目标函数\n",
    "$$\n",
    "\\min \\sum_{j\\in J}f_jy_j + \\sum_{i\\in I}\\sum_{j\\in \\bar{J}} \\lambda_i c_{ij} z_{ij}+\\sum_{j\\in \\bar{J}}\n",
    "\\sum_{i\\in I}\\sum_{j'\\in J_j^{-}} \\sum_{r=1}^R \\lambda_i c_{ijj'r} w_{ijj'r}\n",
    "$$"
   ]
  },
  {
   "cell_type": "code",
   "execution_count": 8,
   "metadata": {},
   "outputs": [
    {
     "name": "stdout",
     "output_type": "stream",
     "text": [
      "done\n"
     ]
    }
   ],
   "source": [
    "item_1 = gp.quicksum(f[j] * y[j] for j in J)\n",
    "item_2 = gp.quicksum((lmd[i] * c[i,j] * z[i,j] ) for i in I for j in bar_J)\n",
    "item_3 = gp.quicksum((lmd[i] * c[j,j_p] * w[i,j,j_p,r]) for i in I for j in bar_J for j_p in J_minus(j,bar_J) for r in R )\n",
    "m.setObjective(item_1 + item_2 + item_3)\n",
    "\n",
    "print(\"done\")"
   ]
  },
  {
   "cell_type": "markdown",
   "metadata": {},
   "source": [
    "### 约束\n",
    "$$\n",
    "\\sum_{j\\in J} z_{ij} = 1,\\forall i \\in I\n",
    "$$"
   ]
  },
  {
   "cell_type": "code",
   "execution_count": 9,
   "metadata": {},
   "outputs": [
    {
     "name": "stdout",
     "output_type": "stream",
     "text": [
      "done\n"
     ]
    }
   ],
   "source": [
    "m.addConstrs((gp.quicksum(z[i,j] for j in J)==1 for i in I), name='Primary')\n",
    "print(\"done\")"
   ]
  },
  {
   "cell_type": "markdown",
   "metadata": {},
   "source": [
    "$$\n",
    "z_{ij} + \\sum_{j'\\in J_j^+}\\sum_{r=1}^{R}x_{ij'jr} \n",
    "\\le y_j ,\\quad \\forall i\\in I,j\\in J\n",
    "$$"
   ]
  },
  {
   "cell_type": "code",
   "execution_count": 10,
   "metadata": {},
   "outputs": [
    {
     "name": "stdout",
     "output_type": "stream",
     "text": [
      "done\n"
     ]
    }
   ],
   "source": [
    "m.addConstrs((z[i,j] + gp.quicksum(x[i,j_p,j,r] for r in R for j_p in J_plus(j, bar_J)) <= y[j] for i in I for j in J), name='assign2open')\n",
    "print(\"done\")"
   ]
  },
  {
   "cell_type": "markdown",
   "metadata": {},
   "source": [
    "$$\n",
    "z_{ij} = \\sum_{j'\\in J_j^-} x_{ijj'1}, \\forall i \\in I, j\\in \\bar{J} \\tag{13}\n",
    "$$"
   ]
  },
  {
   "cell_type": "code",
   "execution_count": 11,
   "metadata": {},
   "outputs": [
    {
     "name": "stdout",
     "output_type": "stream",
     "text": [
      "done\n"
     ]
    }
   ],
   "source": [
    "m.addConstrs((z[i,j] == gp.quicksum(x[i,j,j_p,1] for j_p in J_minus(j, bar_J)) for i in I for j in bar_J), name='rankPrimary')\n",
    "print(\"done\")"
   ]
  },
  {
   "cell_type": "markdown",
   "metadata": {},
   "source": [
    "$$\n",
    "\\sum_{j'\\in J_j^+}x_{i,j',j,r-1} = \\sum_{j'\\in J_j^-}x_{i,j,j',r},\\forall i\\in I,j\\in \\bar{J},r = 2,...,R\n",
    "$$"
   ]
  },
  {
   "cell_type": "code",
   "execution_count": 12,
   "metadata": {},
   "outputs": [
    {
     "name": "stdout",
     "output_type": "stream",
     "text": [
      "done\n"
     ]
    }
   ],
   "source": [
    "m.addConstrs(((gp.quicksum(x[i,j_p,j,r-1] for j_p in J_plus(j,bar_J)) \n",
    "            == gp.quicksum(x[i,j,j_p,r] for j_p in J_minus(j,bar_J))) for i in I for j in bar_J for r in R[1:]), name='rank')\n",
    "print(\"done\")"
   ]
  },
  {
   "cell_type": "markdown",
   "metadata": {},
   "source": [
    "$$\n",
    "\\sum_{j\\in \\bar{J}} x_{ijj_0R} = 1,\\forall i \\in I \\tag{15}\n",
    "$$"
   ]
  },
  {
   "cell_type": "code",
   "execution_count": 13,
   "metadata": {},
   "outputs": [
    {
     "name": "stdout",
     "output_type": "stream",
     "text": [
      "done\n"
     ]
    }
   ],
   "source": [
    "m.addConstrs(((gp.quicksum(x[i,j,0,R[-1]] for j in J)) == 1 for i in I), name='rankLast')\n",
    "print(\"done\")"
   ]
  },
  {
   "cell_type": "markdown",
   "metadata": {},
   "source": [
    "$$\n",
    "p_{ijj'1} = q_j,\\forall i\\in I,j \\in \\bar{J}, j'\\in J_j^-\n",
    "$$"
   ]
  },
  {
   "cell_type": "code",
   "execution_count": 14,
   "metadata": {},
   "outputs": [
    {
     "name": "stdout",
     "output_type": "stream",
     "text": [
      "done\n"
     ]
    }
   ],
   "source": [
    "m.addConstrs((p[i,j,j_p,1] == q[j] for i in I for j in bar_J for j_p in J_minus(j,bar_J)), name='probPrimary')\n",
    "print(\"done\")"
   ]
  },
  {
   "cell_type": "markdown",
   "metadata": {},
   "source": [
    "$$\n",
    "p_{ijj'r} = q_j \\sum_{j'\\in J_j^+}p_{ij'j(r-1)}x_{ij'j(r-1)},\\forall i\\in I,j\\in \\bar{J},j'\\in J_j^-,r=2,...,R\n",
    "$$"
   ]
  },
  {
   "cell_type": "code",
   "execution_count": 15,
   "metadata": {},
   "outputs": [
    {
     "name": "stdout",
     "output_type": "stream",
     "text": [
      "done\n"
     ]
    }
   ],
   "source": [
    "m.addConstrs(((p[i,j,j_p,r] == q[j]*gp.quicksum(w[i,j_m,j,r-1] for j_m in J_plus(j,bar_J))) for i in I for j in bar_J for j_p in J_minus(j, bar_J) for r in R[1:]), name='probPrimary')\n",
    "print(\"done\")"
   ]
  },
  {
   "cell_type": "markdown",
   "metadata": {},
   "source": [
    "等价约束\n",
    "$$\n",
    "% 上界1\n",
    "w_{ijj'r} \\le p_{ijj'r}, \\forall i \\in I,j\\in J, j' \\in J_j^-, r=1,...,R \\\\\n",
    "% 上界2\n",
    "w_{ijj'r} \\le x_{ijj'r}, \\forall i \\in I, j\\in J, j' \\in J_j^-, r=1,...,R \\\\\n",
    "% 下界\n",
    "w_{ijj'r} \\ge p_{ijj'r} + x_{ijj'r} - 1, \\forall i \\in I, j\\in J, j' \\in J_j^-, r=1,...,R\n",
    "$$"
   ]
  },
  {
   "cell_type": "code",
   "execution_count": 16,
   "metadata": {},
   "outputs": [
    {
     "name": "stdout",
     "output_type": "stream",
     "text": [
      "done\n"
     ]
    }
   ],
   "source": [
    "m.addConstrs((w[i,j,j_p,r] <= p[i,j,j_p,r] for i in I for j in bar_J for j_p in bar_J for r in R), name='u1b')\n",
    "m.addConstrs((w[i,j,j_p,r] <= x[i,j,j_p,r] for i in I for j in bar_J for j_p in bar_J for r in R), name='u2b')\n",
    "m.addConstrs((w[i,j,j_p,r] >= p[i,j,j_p,r] + x[i,j,j_p,r] -1 for i in I for j in bar_J for j_p in bar_J for r in R), name='lb')\n",
    "print('done')"
   ]
  },
  {
   "cell_type": "markdown",
   "metadata": {},
   "source": [
    "## 求解"
   ]
  },
  {
   "cell_type": "code",
   "execution_count": 17,
   "metadata": {},
   "outputs": [
    {
     "name": "stdout",
     "output_type": "stream",
     "text": [
      "Set parameter MIPGap to value 1e-05\n",
      "Set parameter TimeLimit to value 1000\n",
      "Gurobi Optimizer version 9.5.2 build v9.5.2rc0 (mac64[arm])\n",
      "Thread count: 8 physical cores, 8 logical processors, using up to 8 threads\n",
      "Optimize a model with 1953091 rows, 1472499 columns and 22146530 nonzeros\n",
      "Model fingerprint: 0x6aeb6a11\n",
      "Variable types: 980000 continuous, 492499 integer (492499 binary)\n",
      "Coefficient statistics:\n",
      "  Matrix range     [2e-02, 1e+00]\n",
      "  Objective range  [2e+02, 3e+06]\n",
      "  Bounds range     [1e+00, 1e+00]\n",
      "  RHS range        [2e-02, 1e+00]\n",
      "Presolve removed 235445 rows and 117747 columns (presolve time = 6s) ...\n",
      "Presolve removed 353143 rows and 136955 columns (presolve time = 10s) ...\n",
      "Presolve removed 874209 rows and 638813 columns (presolve time = 15s) ...\n",
      "Presolve removed 1109507 rows and 638813 columns (presolve time = 35s) ...\n",
      "Presolve removed 1109507 rows and 638813 columns (presolve time = 41s) ...\n",
      "Presolve removed 1109507 rows and 638813 columns (presolve time = 55s) ...\n",
      "Presolve removed 1109507 rows and 639055 columns (presolve time = 55s) ...\n",
      "Presolve removed 1109511 rows and 639057 columns (presolve time = 60s) ...\n",
      "Presolve removed 1109511 rows and 639057 columns (presolve time = 65s) ...\n",
      "Presolve removed 1109511 rows and 639057 columns\n",
      "Presolve time: 66.76s\n",
      "Presolved: 843580 rows, 833442 columns, 5725381 nonzeros\n",
      "Variable types: 360442 continuous, 473000 integer (473000 binary)\n",
      "Found heuristic solution: objective 4556592.2034\n",
      "\n",
      "Deterministic concurrent LP optimizer: primal simplex, dual simplex, and barrier\n",
      "Showing barrier log only...\n",
      "\n",
      "Root barrier log...\n",
      "\n",
      "Ordering time: 2.05s\n",
      "\n",
      "Barrier performed 0 iterations in 85.78 seconds (100.46 work units)\n",
      "Barrier solve interrupted - model solved by another algorithm\n",
      "\n",
      "Concurrent spin time: 2.04s (can be avoided by choosing Method=3)\n",
      "\n",
      "Solved with dual simplex\n",
      "\n",
      "Root relaxation: objective 1.014379e+06, 9360 iterations, 12.55 seconds (6.70 work units)\n",
      "Total elapsed time = 91.43s\n",
      "\n",
      "    Nodes    |    Current Node    |     Objective Bounds      |     Work\n",
      " Expl Unexpl |  Obj  Depth IntInf | Incumbent    BestBd   Gap | It/Node Time\n",
      "\n",
      "     0     0 1014378.90    0  411 4556592.20 1014378.90  77.7%     -   98s\n",
      "H    0     0                    1084624.5636 1014378.90  6.48%     -  111s\n",
      "H    0     0                    1084624.5618 1014378.90  6.48%     -  113s\n",
      "     0     0 1014568.75    0  439 1084624.56 1014568.75  6.46%     -  118s\n",
      "H    0     0                    1034133.6421 1014568.75  1.89%     -  125s\n",
      "     0     0 1014568.75    0  443 1034133.64 1014568.75  1.89%     -  126s\n",
      "     0     0 1015017.90    0  421 1034133.64 1015017.90  1.85%     -  136s\n",
      "     0     0 1015183.42    0 1596 1034133.64 1015183.42  1.83%     -  290s\n",
      "     0     0 1015797.99    0 1923 1034133.64 1015797.99  1.77%     -  304s\n",
      "     0     0 1015802.96    0 1907 1034133.64 1015802.96  1.77%     -  314s\n",
      "     0     0 1017070.31    0 1960 1034133.64 1017070.31  1.65%     -  324s\n",
      "H    0     0                    1019029.7214 1017070.31  0.19%     -  326s\n",
      "     0     0 1017177.91    0 1681 1019029.72 1017177.91  0.18%     -  327s\n",
      "     0     0 1017178.12    0 1678 1019029.72 1017178.12  0.18%     -  328s\n",
      "     0     0 1017212.06    0 1624 1019029.72 1017212.06  0.18%     -  339s\n",
      "     0     0 1017783.57    0  349 1019029.72 1017783.57  0.12%     -  364s\n",
      "H    0     0                    1018666.5302 1017783.57  0.09%     -  365s\n",
      "H    0     0                    1018330.9144 1017783.57  0.05%     -  365s\n",
      "     0     0 1017794.04    0  349 1018330.91 1017794.04  0.05%     -  367s\n",
      "H    0     0                    1018324.5828 1017794.04  0.05%     -  367s\n",
      "H    0     0                    1018316.0777 1017794.04  0.05%     -  367s\n",
      "H    0     0                    1018296.5013 1017795.09  0.05%     -  369s\n",
      "H    0     0                    1018293.0602 1017795.09  0.05%     -  369s\n",
      "     0     0 1018047.39    0  230 1018293.06 1018047.39  0.02%     -  369s\n",
      "H    0     0                    1018219.1491 1018047.39  0.02%     -  369s\n",
      "     0     0 1018049.07    0  230 1018219.15 1018049.07  0.02%     -  369s\n",
      "H    0     0                    1018193.3299 1018049.07  0.01%     -  370s\n",
      "H    0     0                    1018190.5057 1018052.48  0.01%     -  370s\n",
      "H    0     0                    1018188.5117 1018052.48  0.01%     -  370s\n",
      "H    0     0                    1018183.9352 1018052.48  0.01%     -  370s\n",
      "H    0     0                    1018180.4348 1018052.48  0.01%     -  370s\n",
      "H    0     0                    1018178.9543 1018052.48  0.01%     -  370s\n",
      "H    0     0                    1018177.1709 1018052.48  0.01%     -  370s\n",
      "H    0     0                    1018176.2553 1018052.48  0.01%     -  370s\n",
      "H    0     0                    1018176.0765 1018052.48  0.01%     -  370s\n",
      "H    0     0                    1018174.7350 1018052.48  0.01%     -  370s\n",
      "H    0     0                    1018168.3817 1018052.48  0.01%     -  370s\n",
      "H    0     0                    1018144.5790 1018052.48  0.01%     -  370s\n",
      "     0     0 1018144.41    0    6 1018144.58 1018144.41  0.00%     -  370s\n",
      "\n",
      "Explored 1 nodes (112218 simplex iterations) in 370.94 seconds (338.47 work units)\n",
      "Thread count was 8 (of 8 available processors)\n",
      "\n",
      "Solution count 10: 1.01814e+06 1.01817e+06 1.01817e+06 ... 1.01819e+06\n",
      "\n",
      "Optimal solution found (tolerance 1.00e-05)\n",
      "Best objective 1.018144578957e+06, best bound 1.018144410155e+06, gap 0.0000%\n",
      "求解完成\n"
     ]
    }
   ],
   "source": [
    "m.Params.MIPGap = 0.00001\n",
    "m.Params.timeLimit = 1000\n",
    "\n",
    "# m.Params.LogFile =  \"SolvingLog.log\"\n",
    "# m.write('Model.lp')\n",
    "\n",
    "m.optimize()\n",
    "\n",
    "# m.computeIIS()\n",
    "# m.write('Model.ilp')\n",
    "# m.write('Model.lp')\n",
    "\n",
    "m.write('Solution.sol')\n",
    "\n",
    "print('求解完成')"
   ]
  }
 ],
 "metadata": {
  "kernelspec": {
   "display_name": "Python 3.10.8 64-bit",
   "language": "python",
   "name": "python3"
  },
  "language_info": {
   "codemirror_mode": {
    "name": "ipython",
    "version": 3
   },
   "file_extension": ".py",
   "mimetype": "text/x-python",
   "name": "python",
   "nbconvert_exporter": "python",
   "pygments_lexer": "ipython3",
   "version": "3.10.8"
  },
  "orig_nbformat": 4,
  "vscode": {
   "interpreter": {
    "hash": "aee8b7b246df8f9039afb4144a1f6fd8d2ca17a180786b69acc140d282b71a49"
   }
  }
 },
 "nbformat": 4,
 "nbformat_minor": 2
}
