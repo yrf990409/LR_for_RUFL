{
 "cells": [
  {
   "cell_type": "markdown",
   "metadata": {},
   "source": [
    "# 非线性模型\n"
   ]
  },
  {
   "cell_type": "code",
   "execution_count": 48,
   "metadata": {},
   "outputs": [],
   "source": [
    "import gurobipy as gp\n",
    "import numpy as np\n",
    "import math\n",
    "import copy"
   ]
  },
  {
   "cell_type": "code",
   "execution_count": 49,
   "metadata": {},
   "outputs": [],
   "source": [
    "def J_minus(j, bar_J):\n",
    "    # j 之后的设施集合\n",
    "    if j == 0:\n",
    "        j_minus = [j]\n",
    "    else:\n",
    "        j_minus = copy.deepcopy(bar_J)\n",
    "        j_minus.remove(j)\n",
    "    return j_minus\n",
    "\n",
    "\n",
    "def J_plus(j, bar_J):\n",
    "    # j 之前的设施集合\n",
    "    if j == 0:\n",
    "        j_plus = copy.deepcopy(bar_J)\n",
    "    else:\n",
    "        j_plus = copy.deepcopy(bar_J)\n",
    "        j_plus.remove(j)\n",
    "        j_plus.remove(0)\n",
    "    return j_plus"
   ]
  },
  {
   "cell_type": "markdown",
   "metadata": {},
   "source": [
    "## 导入数据"
   ]
  },
  {
   "cell_type": "code",
   "execution_count": 50,
   "metadata": {},
   "outputs": [],
   "source": [
    "# 导入数据\n",
    "np.set_printoptions(suppress=True)    # 取消numpy打印的科学计数法\n",
    "\n",
    "\n",
    "# cost 矩阵的第一索引位置是0 默认为虚拟设施\n",
    "root = '../data/SnyderData/49nodes/'\n",
    "cost = np.loadtxt(root+'cost.csv',  # 相对路径下的csv文件\n",
    "                  dtype=None,         # 数据类型默认\n",
    "                  encoding='UTF-8',   # 注意此文件为UTF-8格式且取消BOM\n",
    "                  delimiter=',')      # 分隔符\n",
    "\n",
    "dmd = np.loadtxt(root+'dmd.csv',  # 相对路径下的csv文件\n",
    "                  dtype=None,         # 数据类型默认\n",
    "                  encoding='UTF-8',   # 注意此文件为UTF-8格式且取消BOM\n",
    "                  delimiter=',')      # 分隔符\n",
    "\n",
    "fc = np.loadtxt(root+'fc.csv',  # 相对路径下的csv文件\n",
    "                  dtype=None,         # 数据类型默认\n",
    "                  encoding='UTF-8',   # 注意此文件为UTF-8格式且取消BOM\n",
    "                  delimiter=',')      # 分隔符"
   ]
  },
  {
   "cell_type": "markdown",
   "metadata": {},
   "source": [
    "## 参数设置"
   ]
  },
  {
   "cell_type": "code",
   "execution_count": 51,
   "metadata": {},
   "outputs": [],
   "source": [
    "rou = 0.05 # 损坏概率参数\n",
    "max_visit_num = 5 # 客户的最大尝试次数"
   ]
  },
  {
   "cell_type": "code",
   "execution_count": 52,
   "metadata": {},
   "outputs": [],
   "source": [
    "q = 0.05 * np.exp(-fc/200000) # 损坏概率\n",
    "q[0] = 1\n",
    "\n",
    "cus_num = len(dmd) # 客户数\n",
    "node_num = cost.shape[0] # 节点数（虚拟 设施 客户）\n",
    "fac_num = node_num - cus_num - 1 # 设施数\n",
    "\n",
    "# 集合设置\n",
    "J = [j for j in range(1, fac_num+1)] # 设施集合\n",
    "I = [i for i in range(fac_num+1, node_num)] # 客户集合\n",
    "bar_J = [j for j in range(0, fac_num+1)] # 设施拓展集合\n",
    "R = [r for r in range(1,max_visit_num)] # 等级\n",
    "\n",
    "# 常数集合\n",
    "lmd = {i : dmd[i-fac_num-1] for i in I} # lambda需求\n",
    "c = {(i,j) : cost[i,j] for i in bar_J+I for j in bar_J} # 价格\n",
    "f = {j : fc[j] for j in J} # 建设成本\n"
   ]
  },
  {
   "cell_type": "markdown",
   "metadata": {},
   "source": [
    "## 建模"
   ]
  },
  {
   "cell_type": "code",
   "execution_count": 53,
   "metadata": {},
   "outputs": [],
   "source": [
    "m = gp.Model()"
   ]
  },
  {
   "cell_type": "markdown",
   "metadata": {},
   "source": [
    "### 决策变量"
   ]
  },
  {
   "cell_type": "code",
   "execution_count": 54,
   "metadata": {},
   "outputs": [],
   "source": [
    "x = m.addVars(((i,j,j_p,r) for i in I for j in bar_J for j_p in bar_J for r in R), vtype = gp.GRB.BINARY,name = 'x')\n",
    "y = m.addVars((j for j in J), vtype = gp.GRB.BINARY, name = 'y')\n",
    "z = m.addVars(((i,j) for i in I for j in bar_J), vtype = gp.GRB.BINARY, name = 'z')\n",
    "p = m.addVars(((i,j,j_p,r) for i in I for j in bar_J for j_p in bar_J for r in R), lb = 0, ub = 1, vtype = gp.GRB.CONTINUOUS,name = 'p')"
   ]
  },
  {
   "cell_type": "markdown",
   "metadata": {},
   "source": [
    "## 目标函数\n",
    "$$\n",
    "\\min \\sum_{j\\in J}f_jy_j + \\sum_{i\\in I}\\sum_{j\\in \\bar{J}} \\lambda_i c_{ij} z_{ij}+\\sum_{j\\in \\bar{J}}\n",
    "\\sum_{i\\in I}\\sum_{j'\\in J_j^{-}} \\sum_{r=1}^R \\lambda_i c_{ijj'r} p_{ijj'r} x_{ijj'r}\n",
    "$$"
   ]
  },
  {
   "cell_type": "code",
   "execution_count": 55,
   "metadata": {},
   "outputs": [
    {
     "name": "stdout",
     "output_type": "stream",
     "text": [
      "done\n"
     ]
    }
   ],
   "source": [
    "item_1 = gp.quicksum(f[j] * y[j] for j in J)\n",
    "item_2 = gp.quicksum((lmd[i] * c[i,j] * z[i,j] ) for i in I for j in bar_J)\n",
    "item_3 = gp.quicksum((lmd[i] * c[j,j_p] * p[i,j,j_p,r] * x[i,j,j_p,r]) for i in I for j in bar_J for j_p in J_minus(j,bar_J) for r in R )\n",
    "m.setObjective(item_1 + item_2 + item_3)\n",
    "\n",
    "print(\"done\")"
   ]
  },
  {
   "cell_type": "markdown",
   "metadata": {},
   "source": [
    "### 约束\n",
    "$$\n",
    "\\sum_{j\\in J} z_{ij} = 1,\\forall i \\in I\n",
    "$$"
   ]
  },
  {
   "cell_type": "code",
   "execution_count": 56,
   "metadata": {},
   "outputs": [
    {
     "name": "stdout",
     "output_type": "stream",
     "text": [
      "done\n"
     ]
    }
   ],
   "source": [
    "m.addConstrs((gp.quicksum(z[i,j] for j in J)==1 for i in I), name='Primary')\n",
    "print(\"done\")"
   ]
  },
  {
   "cell_type": "markdown",
   "metadata": {},
   "source": [
    "$$\n",
    "z_{ij} + \\sum_{j'\\in J_j^+}\\sum_{r=1}^{R}x_{ij'jr} \n",
    "\\le y_j ,\\quad \\forall i\\in I,j\\in J\n",
    "$$"
   ]
  },
  {
   "cell_type": "code",
   "execution_count": 57,
   "metadata": {},
   "outputs": [
    {
     "name": "stdout",
     "output_type": "stream",
     "text": [
      "done\n"
     ]
    }
   ],
   "source": [
    "m.addConstrs((z[i,j] + gp.quicksum(x[i,j_p,j,r] for r in R for j_p in J_plus(j, bar_J)) <= y[j] for i in I for j in J), name='assign2open')\n",
    "print(\"done\")"
   ]
  },
  {
   "cell_type": "markdown",
   "metadata": {},
   "source": [
    "$$\n",
    "z_{ij} = \\sum_{j'\\in J_j^-} x_{ijj'1}, \\forall i \\in I, j\\in \\bar{J} \\tag{13}\n",
    "$$"
   ]
  },
  {
   "cell_type": "code",
   "execution_count": 58,
   "metadata": {},
   "outputs": [
    {
     "name": "stdout",
     "output_type": "stream",
     "text": [
      "done\n"
     ]
    }
   ],
   "source": [
    "m.addConstrs((z[i,j] == gp.quicksum(x[i,j,j_p,1] for j_p in J_minus(j, bar_J)) for i in I for j in bar_J), name='rankPrimary')\n",
    "print(\"done\")"
   ]
  },
  {
   "cell_type": "markdown",
   "metadata": {},
   "source": [
    "$$\n",
    "\\sum_{j'\\in J_j^+}x_{i,j',j,r-1} = \\sum_{j'\\in J_j^-}x_{i,j,j',r},\\forall i\\in I,j\\in \\bar{J},r = 2,...,R\n",
    "$$"
   ]
  },
  {
   "cell_type": "code",
   "execution_count": 59,
   "metadata": {},
   "outputs": [
    {
     "name": "stdout",
     "output_type": "stream",
     "text": [
      "done\n"
     ]
    }
   ],
   "source": [
    "m.addConstrs(((gp.quicksum(x[i,j_p,j,r-1] for j_p in J_plus(j,bar_J)) \n",
    "            == gp.quicksum(x[i,j,j_p,r] for j_p in J_minus(j,bar_J))) for i in I for j in bar_J for r in R[1:]), name='rank')\n",
    "print(\"done\")"
   ]
  },
  {
   "cell_type": "markdown",
   "metadata": {},
   "source": [
    "$$\n",
    "\\sum_{j\\in \\bar{J}} x_{ijj_0R} = 1,\\forall i \\in I \\tag{15}\n",
    "$$"
   ]
  },
  {
   "cell_type": "code",
   "execution_count": 60,
   "metadata": {},
   "outputs": [
    {
     "name": "stdout",
     "output_type": "stream",
     "text": [
      "done\n"
     ]
    }
   ],
   "source": [
    "m.addConstrs(((gp.quicksum(x[i,j,0,R[-1]] for j in J)) == 1 for i in I), name='rankLast')\n",
    "print(\"done\")"
   ]
  },
  {
   "cell_type": "markdown",
   "metadata": {},
   "source": [
    "$$\n",
    "p_{ijj'1} = q_j,\\forall i\\in I,j \\in \\bar{J}, j'\\in J_j^-\n",
    "$$"
   ]
  },
  {
   "cell_type": "code",
   "execution_count": 61,
   "metadata": {},
   "outputs": [
    {
     "name": "stdout",
     "output_type": "stream",
     "text": [
      "done\n"
     ]
    }
   ],
   "source": [
    "m.addConstrs((p[i,j,j_p,1] == q[j] for i in I for j in bar_J for j_p in J_minus(j,bar_J)), name='probPrimary')\n",
    "print(\"done\")"
   ]
  },
  {
   "cell_type": "markdown",
   "metadata": {},
   "source": [
    "$$\n",
    "p_{ijj'r} = q_j \\sum_{j'\\in J_j^+}p_{ij'j(r-1)}x_{ij'j(r-1)},\\forall i\\in I,j\\in \\bar{J},j'\\in J_j^-,r=2,...,R\n",
    "$$"
   ]
  },
  {
   "cell_type": "code",
   "execution_count": 62,
   "metadata": {},
   "outputs": [
    {
     "name": "stdout",
     "output_type": "stream",
     "text": [
      "done\n"
     ]
    }
   ],
   "source": [
    "m.addConstrs(((p[i,j,j_p,r] == q[j]*gp.quicksum(p[i,j_m,j,r-1] * x[i,j_m,j,r-1]for j_m in J_plus(j,bar_J))) for i in I for j in bar_J for j_p in J_minus(j, bar_J) for r in R[1:]), name='probPrimary')\n",
    "print(\"done\")"
   ]
  },
  {
   "cell_type": "markdown",
   "metadata": {},
   "source": [
    "## 求解"
   ]
  },
  {
   "cell_type": "code",
   "execution_count": 63,
   "metadata": {},
   "outputs": [
    {
     "name": "stdout",
     "output_type": "stream",
     "text": [
      "Set parameter MIPGap to value 1e-05\n",
      "Set parameter TimeLimit to value 1000\n",
      "Gurobi Optimizer version 9.5.2 build v9.5.2rc0 (mac64[arm])\n",
      "Thread count: 8 physical cores, 8 logical processors, using up to 8 threads\n",
      "Optimize a model with 129997 rows, 982499 columns and 1414630 nonzeros\n",
      "Model fingerprint: 0x50ddfbb9\n",
      "Model has 470596 quadratic objective terms\n",
      "Model has 353094 quadratic constraints\n",
      "Variable types: 490000 continuous, 492499 integer (492499 binary)\n",
      "Coefficient statistics:\n",
      "  Matrix range     [1e+00, 1e+00]\n",
      "  QMatrix range    [2e-02, 1e+00]\n",
      "  QLMatrix range   [1e+00, 1e+00]\n",
      "  Objective range  [2e+02, 3e+06]\n",
      "  QObjective range [3e+02, 6e+06]\n",
      "  Bounds range     [1e+00, 1e+00]\n",
      "  RHS range        [2e-02, 1e+00]\n",
      "Presolve removed 117747 rows and 38514 columns (presolve time = 5s) ...\n",
      "Presolve removed 121943 rows and 160408 columns (presolve time = 10s) ...\n",
      "Presolve added 226251 rows and 0 columns\n",
      "Presolve removed 0 rows and 160740 columns\n",
      "Presolve time: 14.37s\n",
      "Presolved: 1184985 rows, 1174804 columns, 4340048 nonzeros\n",
      "Variable types: 701943 continuous, 472861 integer (472861 binary)\n",
      "Found heuristic solution: objective 5090407.6291\n",
      "\n",
      "Deterministic concurrent LP optimizer: primal simplex, dual simplex, and barrier\n",
      "Showing barrier log only...\n",
      "\n",
      "Root barrier log...\n",
      "\n",
      "Elapsed ordering time = 5s\n",
      "Ordering time: 5.67s\n",
      "\n",
      "Barrier performed 0 iterations in 67.12 seconds (64.84 work units)\n",
      "Barrier solve interrupted - model solved by another algorithm\n",
      "\n",
      "Concurrent spin time: 3.35s (can be avoided by choosing Method=3)\n",
      "\n",
      "Solved with dual simplex\n",
      "\n",
      "Root relaxation: objective 1.014379e+06, 13157 iterations, 16.35 seconds (11.81 work units)\n",
      "Total elapsed time = 67.30s\n",
      "Total elapsed time = 70.79s\n",
      "\n",
      "    Nodes    |    Current Node    |     Objective Bounds      |     Work\n",
      " Expl Unexpl |  Obj  Depth IntInf | Incumbent    BestBd   Gap | It/Node Time\n",
      "\n",
      "     0     0 1014378.90    0  404 5090407.63 1014378.90  80.1%     -   75s\n",
      "H    0     0                    1343825.0813 1014378.90  24.5%     -   83s\n",
      "     0     0 1014568.75    0  439 1343825.08 1014568.75  24.5%     -   89s\n",
      "H    0     0                    1042079.0615 1014568.75  2.64%     -   98s\n",
      "     0     0 1014568.75    0  443 1042079.06 1014568.75  2.64%     -  102s\n",
      "     0     0 1015017.90    0  432 1042079.06 1015017.90  2.60%     -  109s\n",
      "     0     0 1015017.90    0 1600 1042079.06 1015017.90  2.60%     -  237s\n",
      "     0     0 1015573.22    0 1648 1042079.06 1015573.22  2.54%     -  258s\n",
      "     0     0 1015619.19    0 1641 1042079.06 1015619.19  2.54%     -  269s\n",
      "     0     0 1016296.01    0 1666 1042079.06 1016296.01  2.47%     -  281s\n",
      "     0     0 1016544.08    0 1653 1042079.06 1016544.08  2.45%     -  285s\n",
      "     0     0 1016800.02    0 1669 1042079.06 1016800.02  2.43%     -  296s\n",
      "H    0     0                    1019942.7671 1016800.02  0.31%     -  298s\n",
      "     0     0 1016919.84    0 1676 1019942.77 1016919.84  0.30%     -  302s\n",
      "     0     0 1017072.71    0 1717 1019942.77 1017072.71  0.28%     -  319s\n",
      "     0     0 1017390.48    0 1249 1019942.77 1017390.48  0.25%     -  369s\n",
      "H    0     0                    1018890.0466 1017390.48  0.15%     -  370s\n",
      "     0     0 1017452.57    0  450 1018890.05 1017452.57  0.14%     -  375s\n",
      "     0     0 1017818.17    0  386 1018890.05 1017818.17  0.11%     -  388s\n",
      "H    0     0                    1018243.7449 1017818.17  0.04%     -  389s\n",
      "     0     0 1017818.17    0  386 1018243.74 1017818.17  0.04%     -  390s\n",
      "H    0     0                    1018235.9413 1017818.17  0.04%     -  390s\n",
      "H    0     0                    1018228.6971 1017818.17  0.04%     -  390s\n",
      "H    0     0                    1018217.3912 1017818.17  0.04%     -  391s\n",
      "     0     0 1017997.80    0  288 1018217.39 1017997.80  0.02%     -  394s\n",
      "H    0     0                    1018190.7601 1017997.80  0.02%     -  394s\n",
      "     0     0 1018002.90    0  288 1018190.76 1018002.90  0.02%     -  394s\n",
      "H    0     0                    1018181.8107 1018002.90  0.02%     -  395s\n",
      "H    0     0                    1018153.2214 1018002.90  0.01%     -  395s\n",
      "H    0     0                    1018152.6230 1018002.93  0.01%     -  395s\n",
      "H    0     0                    1018151.9246 1018002.93  0.01%     -  395s\n",
      "H    0     0                    1018151.6874 1018002.93  0.01%     -  395s\n",
      "H    0     0                    1018144.5790 1018002.93  0.01%     -  395s\n",
      "     0     0 1018144.07    0    4 1018144.58 1018144.07  0.00%     -  395s\n",
      "\n",
      "Explored 1 nodes (124651 simplex iterations) in 395.90 seconds (393.79 work units)\n",
      "Thread count was 8 (of 8 available processors)\n",
      "\n",
      "Solution count 10: 1.01814e+06 1.01815e+06 1.01815e+06 ... 1.01824e+06\n",
      "\n",
      "Optimal solution found (tolerance 1.00e-05)\n",
      "Best objective 1.018144578957e+06, best bound 1.018144065508e+06, gap 0.0001%\n",
      "求解完成\n"
     ]
    }
   ],
   "source": [
    "m.Params.MIPGap = 0.00001\n",
    "m.Params.timeLimit = 1000\n",
    "\n",
    "# m.Params.LogFile =  \"SolvingLog.log\"\n",
    "# m.write('Model.lp')\n",
    "\n",
    "m.optimize()\n",
    "\n",
    "# m.computeIIS()\n",
    "# m.write('Model.ilp')\n",
    "# m.write('Model.lp')\n",
    "\n",
    "m.write('Solution.sol')\n",
    "\n",
    "print('求解完成')"
   ]
  }
 ],
 "metadata": {
  "kernelspec": {
   "display_name": "Python 3.10.8 64-bit",
   "language": "python",
   "name": "python3"
  },
  "language_info": {
   "codemirror_mode": {
    "name": "ipython",
    "version": 3
   },
   "file_extension": ".py",
   "mimetype": "text/x-python",
   "name": "python",
   "nbconvert_exporter": "python",
   "pygments_lexer": "ipython3",
   "version": "3.10.8"
  },
  "orig_nbformat": 4,
  "vscode": {
   "interpreter": {
    "hash": "aee8b7b246df8f9039afb4144a1f6fd8d2ca17a180786b69acc140d282b71a49"
   }
  }
 },
 "nbformat": 4,
 "nbformat_minor": 2
}
